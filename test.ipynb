{
 "cells": [
  {
   "cell_type": "code",
   "execution_count": 1,
   "metadata": {},
   "outputs": [],
   "source": [
    "import tensorflow as tf\n",
    "import pandas as pd \n",
    "import numpy as np\n",
    "import seaborn as sns\n",
    "import matplotlib.pyplot as plt\n",
    "from ml_models import*"
   ]
  },
  {
   "cell_type": "code",
   "execution_count": 2,
   "metadata": {},
   "outputs": [],
   "source": [
    "# generate data \n",
    "np.random.seed(100)\n",
    "\n",
    "b1 = 0.6\n",
    "b2 = 0.3\n",
    "n_features = 1000\n",
    "n_obs = 1200\n",
    "b = np.random.uniform(-1,1,n_features)\n",
    "X = np.random.normal(0,1, n_obs*n_features).reshape(n_obs,n_features)\n",
    "y = np.matmul(X,b) + np.random.normal(0,10,n_obs)\n",
    "session = np.random.choice(5, n_obs)  # generate 5 sessions\n",
    "y = y > 0\n",
    "X_train, y_train, session_train, X_test, y_test, session_test = X[:1000,:], y[:1000], session[:1000], X[1000:,], y[1000:], session[1000:]"
   ]
  },
  {
   "cell_type": "code",
   "execution_count": 4,
   "metadata": {},
   "outputs": [
    {
     "name": "stdout",
     "output_type": "stream",
     "text": [
      "{'class_weight': 'balanced', 'solver': 'liblinear', 'penalty': 'l2', 'C': 0.12955177946083463}\n",
      "new best:                                           \n",
      "0.7314143589149931                                  \n",
      "{'C': 0.12955177946083463}                          \n",
      "{'class_weight': 'balanced', 'solver': 'liblinear', 'penalty': 'l2', 'C': 0.7033544866623838}\n",
      "{'class_weight': 'balanced', 'solver': 'liblinear', 'penalty': 'l2', 'C': 0.1163129214548464}\n",
      "new best:                                                                     \n",
      "0.731603577490952                                                             \n",
      "{'C': 0.1163129214548464}                                                     \n",
      "{'class_weight': 'balanced', 'solver': 'liblinear', 'penalty': 'l2', 'C': 0.4898432191306937}\n",
      "{'class_weight': 'balanced', 'solver': 'liblinear', 'penalty': 'l2', 'C': 14.445022051244814}\n",
      "{'class_weight': 'balanced', 'solver': 'liblinear', 'penalty': 'l2', 'C': 0.4414962538267914}\n",
      "{'class_weight': 'balanced', 'solver': 'liblinear', 'penalty': 'l2', 'C': 0.032018609788378394}\n",
      "new best:                                                                    \n",
      "0.737754788662564                                                            \n",
      "{'C': 0.032018609788378394}                                                  \n",
      "{'class_weight': 'balanced', 'solver': 'liblinear', 'penalty': 'l2', 'C': 3.3589785383311788}\n",
      "{'class_weight': 'balanced', 'solver': 'liblinear', 'penalty': 'l2', 'C': 2.1733711282093187}\n",
      "{'class_weight': 'balanced', 'solver': 'liblinear', 'penalty': 'l2', 'C': 2.1153569505610434}\n",
      "{'class_weight': 'balanced', 'solver': 'liblinear', 'penalty': 'l2', 'C': 46.6694804981281}\n",
      "{'class_weight': 'balanced', 'solver': 'liblinear', 'penalty': 'l2', 'C': 20.53350088096132}\n",
      "{'class_weight': 'balanced', 'solver': 'liblinear', 'penalty': 'l2', 'C': 0.32404180568050145}\n",
      "{'class_weight': 'balanced', 'solver': 'liblinear', 'penalty': 'l2', 'C': 55.52886584476561}\n",
      "{'class_weight': 'balanced', 'solver': 'liblinear', 'penalty': 'l2', 'C': 1.5502346479310931}\n",
      "{'class_weight': 'balanced', 'solver': 'liblinear', 'penalty': 'l2', 'C': 2.2715864544539413}\n",
      "{'class_weight': 'balanced', 'solver': 'liblinear', 'penalty': 'l2', 'C': 0.012881934260511199}\n",
      "new best:                                                                     \n",
      "0.7431570988161226                                                            \n",
      "{'C': 0.012881934260511199}                                                   \n",
      "{'class_weight': 'balanced', 'solver': 'liblinear', 'penalty': 'l2', 'C': 0.11152217995395591}\n",
      "{'class_weight': 'balanced', 'solver': 'liblinear', 'penalty': 'l2', 'C': 44.29422076046035}\n",
      "{'class_weight': 'balanced', 'solver': 'liblinear', 'penalty': 'l2', 'C': 0.41099933875681305}\n",
      "{'class_weight': 'balanced', 'solver': 'liblinear', 'penalty': 'l2', 'C': 0.006788495056390058}\n",
      "new best:                                                                      \n",
      "0.7455991316091118                                                             \n",
      "{'C': 0.006788495056390058}                                                    \n",
      "{'class_weight': 'balanced', 'solver': 'liblinear', 'penalty': 'l2', 'C': 0.00815147707810346}\n",
      "{'class_weight': 'balanced', 'solver': 'liblinear', 'penalty': 'l2', 'C': 0.0067909265541513915}\n",
      "{'class_weight': 'balanced', 'solver': 'liblinear', 'penalty': 'l2', 'C': 0.019845530675095993}\n",
      "{'class_weight': 'balanced', 'solver': 'liblinear', 'penalty': 'l2', 'C': 0.04789719021493529}\n",
      "{'class_weight': 'balanced', 'solver': 'liblinear', 'penalty': 'l2', 'C': 0.009328390639708584}\n",
      "{'class_weight': 'balanced', 'solver': 'liblinear', 'penalty': 'l2', 'C': 0.006748323028270833}\n",
      "new best:                                                                      \n",
      "0.7456285346794538                                                             \n",
      "{'C': 0.006748323028270833}                                                    \n",
      "{'class_weight': 'balanced', 'solver': 'liblinear', 'penalty': 'l2', 'C': 0.05202345985273863}\n",
      "{'class_weight': 'balanced', 'solver': 'liblinear', 'penalty': 'l2', 'C': 0.025490686459934905}\n",
      "{'class_weight': 'balanced', 'solver': 'liblinear', 'penalty': 'l2', 'C': 0.06035094717490548}\n",
      "{'class_weight': 'balanced', 'solver': 'liblinear', 'penalty': 'l2', 'C': 0.015410895378083277}\n",
      "{'class_weight': 'balanced', 'solver': 'liblinear', 'penalty': 'l2', 'C': 0.19663985479031706}\n",
      "{'class_weight': 'balanced', 'solver': 'liblinear', 'penalty': 'l2', 'C': 4.8672075337998635}\n",
      "{'class_weight': 'balanced', 'solver': 'liblinear', 'penalty': 'l2', 'C': 0.11589792244572164}\n",
      "{'class_weight': 'balanced', 'solver': 'liblinear', 'penalty': 'l2', 'C': 0.9732040677420327}\n",
      "{'class_weight': 'balanced', 'solver': 'liblinear', 'penalty': 'l2', 'C': 126.5443731076007}\n",
      "{'class_weight': 'balanced', 'solver': 'liblinear', 'penalty': 'l2', 'C': 0.006882053468119053}\n",
      "new best:                                                                      \n",
      "0.7456608869651828                                                             \n",
      "{'C': 0.006882053468119053}                                                    \n",
      "{'class_weight': 'balanced', 'solver': 'liblinear', 'penalty': 'l2', 'C': 0.17973953423975914}\n",
      "{'class_weight': 'balanced', 'solver': 'liblinear', 'penalty': 'l2', 'C': 8.110894543997865}\n",
      "{'class_weight': 'balanced', 'solver': 'liblinear', 'penalty': 'l2', 'C': 0.03097477996632176}\n",
      "{'class_weight': 'balanced', 'solver': 'liblinear', 'penalty': 'l2', 'C': 0.06510429776036909}\n",
      "{'class_weight': 'balanced', 'solver': 'liblinear', 'penalty': 'l2', 'C': 0.012639534230730571}\n",
      "{'class_weight': 'balanced', 'solver': 'liblinear', 'penalty': 'l2', 'C': 0.7371788566979357}\n",
      "{'class_weight': 'balanced', 'solver': 'liblinear', 'penalty': 'l2', 'C': 0.08574617929216485}\n",
      "{'class_weight': 'balanced', 'solver': 'liblinear', 'penalty': 'l2', 'C': 0.3016881001533054}\n",
      "{'class_weight': 'balanced', 'solver': 'liblinear', 'penalty': 'l2', 'C': 0.03581744727238399}\n",
      "{'class_weight': 'balanced', 'solver': 'liblinear', 'penalty': 'l2', 'C': 0.20322623539969303}\n",
      "{'class_weight': 'balanced', 'solver': 'liblinear', 'penalty': 'l2', 'C': 0.01677498992711769}\n",
      "{'class_weight': 'balanced', 'solver': 'liblinear', 'penalty': 'l2', 'C': 0.00927940362409058}\n",
      "{'class_weight': 'balanced', 'solver': 'liblinear', 'penalty': 'l2', 'C': 10.712128791291754}\n",
      "100%|██████████| 50/50 [00:28<00:00,  1.76it/s, best loss: -0.7456608869651828]\n",
      "{'class_weight': 'balanced', 'solver': 'liblinear', 'penalty': 'l2', 'C': 0.006882053468119053}\n"
     ]
    }
   ],
   "source": [
    "hoptimizer = HyperOptGeneric(X_train, y_train, 'L2', 'tpe', session = session_train)\n",
    "result = hoptimizer.optimize_hyperparams()"
   ]
  },
  {
   "cell_type": "code",
   "execution_count": 7,
   "metadata": {},
   "outputs": [],
   "source": [
    "# retrain classifier on the training set using the optimal set of hyperparameters\n",
    "classifier = result['best_classifier'].fit(X_train,y_train)"
   ]
  },
  {
   "cell_type": "code",
   "execution_count": 9,
   "metadata": {},
   "outputs": [
    {
     "data": {
      "text/plain": [
       "(0.8257888900090736, 0.9991988431294789)"
      ]
     },
     "execution_count": 9,
     "metadata": {},
     "output_type": "execute_result"
    }
   ],
   "source": [
    "# test the performance on the test set\n",
    "roc_auc_score(y_test, classifier.predict_proba(X_test)[:,1]), roc_auc_score(y_train, classifier.predict_proba(X_train)[:,1])"
   ]
  },
  {
   "cell_type": "code",
   "execution_count": null,
   "metadata": {},
   "outputs": [],
   "source": []
  },
  {
   "cell_type": "code",
   "execution_count": null,
   "metadata": {},
   "outputs": [],
   "source": []
  }
 ],
 "metadata": {
  "kernelspec": {
   "display_name": "ML",
   "language": "python",
   "name": "ml"
  },
  "language_info": {
   "codemirror_mode": {
    "name": "ipython",
    "version": 3
   },
   "file_extension": ".py",
   "mimetype": "text/x-python",
   "name": "python",
   "nbconvert_exporter": "python",
   "pygments_lexer": "ipython3",
   "version": "3.6.8"
  }
 },
 "nbformat": 4,
 "nbformat_minor": 4
}
